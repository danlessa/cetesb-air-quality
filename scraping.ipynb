{
 "cells": [
  {
   "cell_type": "code",
   "execution_count": 3,
   "metadata": {},
   "outputs": [
    {
     "name": "stderr",
     "output_type": "stream",
     "text": [
      "0it [00:00, ?it/s]\n"
     ]
    }
   ],
   "source": [
    "import pandas as pd\n",
    "import requests as req\n",
    "import numpy as np\n",
    "import json\n",
    "import time \n",
    "from lxml import etree\n",
    "import os\n",
    "import pickle as pkl\n",
    "from pathlib import Path\n",
    "from pandarallel import pandarallel\n",
    "from tqdm import tqdm\n",
    "tqdm().pandas()\n"
   ]
  },
  {
   "cell_type": "code",
   "execution_count": 4,
   "metadata": {},
   "outputs": [],
   "source": [
    "output_path = Path.home() / \"data/cetesb/\"\n",
    "estacoes_filepath = output_path / \"estacoes-cetesb.csv.gz\""
   ]
  },
  {
   "cell_type": "code",
   "execution_count": 5,
   "metadata": {},
   "outputs": [],
   "source": [
    "#URI do WebService\n",
    "URI_estacoes = \"https://servicos.cetesb.sp.gov.br/arcgis/rest/services/QUALAR/CETESB_QUALAR/MapServer/6/query\"\n",
    "\n",
    "# IDs das estações\n",
    "objectIds = np.arange(1, 100)\n",
    "objectIds = [\"{}\".format(i) for i in objectIds]\n",
    "objectIds = \", \".join(objectIds)"
   ]
  },
  {
   "cell_type": "code",
   "execution_count": 6,
   "metadata": {},
   "outputs": [],
   "source": [
    "# Jogar o pedido para o site\n",
    "params = {\"f\": \"json\", \"returnGeometry\": \"true\",\n",
    "          \"outFields\": \"*\", \"objectIds\": objectIds}\n",
    "r = req.get(URI_estacoes, params)\n",
    "json_response = json.loads(r.text)\n",
    "\n",
    "# Processar os dados e gerar um dataset\n",
    "dataset_estacoes = []\n",
    "for feature in json_response[\"features\"]:\n",
    "    estacao_info = {}\n",
    "    estacao_info.update(feature[\"attributes\"])\n",
    "    estacao_info.update(feature[\"geometry\"])\n",
    "    dataset_estacoes.append(estacao_info)\n",
    "dataset_estacoes = pd.DataFrame(dataset_estacoes)\n",
    "\n",
    "# Salvar o resultado\n",
    "dataset_estacoes.to_csv(estacoes_filepath, compression=\"gzip\", index=False)"
   ]
  },
  {
   "cell_type": "code",
   "execution_count": 7,
   "metadata": {},
   "outputs": [
    {
     "name": "stdout",
     "output_type": "stream",
     "text": [
      "Não foi possível fazer a correspondência na estação S.José Campos-Vista Verde (57)\n"
     ]
    }
   ],
   "source": [
    "# URL do site com as correspondências\n",
    "URI_estacoes_2 = \"http://sistemasinter.cetesb.sp.gov.br/Ar/php/ar_dados_horarios.php\"\n",
    "r = req.get(URI_estacoes_2)\n",
    "r.encoding = \"utf-8\"\n",
    "raw_html = r.text\n",
    "tree = etree.HTML(raw_html)\n",
    "estacoes = tree.xpath(\"//select/option/@value\")\n",
    "estacoes_id2 = {}\n",
    "for estacao in estacoes:\n",
    "    (id2, name) = estacao.split(\"/\")\n",
    "    estacoes_id2[name] = id2\n",
    "dataset_estacoes = pd.read_csv(estacoes_filepath, compression=\"gzip\", na_values=[\"--\"])\n",
    "dataset_estacoes[\"ID2\"] = None\n",
    "for name, id2 in estacoes_id2.items():\n",
    "    ind = (dataset_estacoes.Nome == name)\n",
    "    dataset_estacoes.loc[ind, \"ID2\"] = id2    \n",
    "    if (np.sum(ind) == 0):\n",
    "        print(\"Não foi possível fazer a correspondência na estação {} ({})\".format(name, id2))\n",
    "\n",
    "ind = ~pd.isnull(dataset_estacoes.ID2)\n",
    "dataset_estacoes = dataset_estacoes[ind]\n",
    "dataset_estacoes.to_csv(estacoes_filepath, compression=\"gzip\", index=False)"
   ]
  },
  {
   "cell_type": "code",
   "execution_count": 8,
   "metadata": {},
   "outputs": [],
   "source": [
    "# URI do site com dados horários\n",
    "URI_dados_horarios = \"https://sistemasinter.cetesb.sp.gov.br/Ar/php/ar_dados_horarios_resultado.php\"\n",
    "URI_dados_horarios_meteo = \"https://sistemasinter.cetesb.sp.gov.br/Ar/php/ar_dados_horarios_Metrl.php\"\n",
    "# Carregar o arquivo com as informações sobre as estações\n",
    "dataset_estacoes = pd.read_csv(estacoes_filepath, compression=\"gzip\", na_values=[\"--\"])"
   ]
  },
  {
   "cell_type": "code",
   "execution_count": 16,
   "metadata": {},
   "outputs": [],
   "source": [
    "# Parâmetros livres\n",
    "#inds = (dataset_estacoes.Municipio == \"SAO PAULO\")\n",
    "#inds &= (dataset_estacoes.Nome == \"Cerqueira César\")\n",
    "#inds &= (dataset_estacoes.Nome == \"Pinheiros\")\n",
    "estacoes_id = dataset_estacoes.ID2.values\n",
    "\n",
    "date_begin = \"2013-05-09\"\n",
    "date_end = \"2019-08-17\"\n",
    "date_range = pd.date_range(date_begin, date_end, freq=\"1d\").sort_values(ascending=False)"
   ]
  },
  {
   "cell_type": "code",
   "execution_count": 17,
   "metadata": {},
   "outputs": [],
   "source": [
    "def get_pollution_data(estacao_id, date):\n",
    "    \"\"\"\n",
    "    Obtém a poluição na estação e data fornecidos\n",
    "    \"\"\"\n",
    "    date_string = \"{day:02d}/{month:02d}/{year:04d}\".format(year=date.year, month=date.month, day=date.day)\n",
    "    params = {\"texData\": date_string, \"selEst\": estacao_id}\n",
    "    r = req.post(URI_dados_horarios, params)\n",
    "    raw_html = r.text\n",
    "    \n",
    "    path = \"{}_{}.html\".format(estacao_id, date)\n",
    "    \n",
    "    with open(output_path / \"raw_html\" / path, 'w') as fid:\n",
    "        fid.write(raw_html)\n",
    "\n",
    "    return None"
   ]
  },
  {
   "cell_type": "code",
   "execution_count": 18,
   "metadata": {},
   "outputs": [],
   "source": [
    "elements = pd.Series([(estacao_id, date) for date in date_range for estacao_id in estacoes_id])"
   ]
  },
  {
   "cell_type": "code",
   "execution_count": null,
   "metadata": {},
   "outputs": [
    {
     "name": "stderr",
     "output_type": "stream",
     "text": [
      " 67%|██████▋   | 93575/139812 [15:28:27<8:00:51,  1.60it/s]  "
     ]
    }
   ],
   "source": [
    "pollution_data = elements.progress_apply(lambda x: get_pollution_data(x[0], x[1]))"
   ]
  },
  {
   "cell_type": "code",
   "execution_count": null,
   "metadata": {},
   "outputs": [],
   "source": [
    "pollution_data.to_pickle(\"aaa.pkl\")"
   ]
  },
  {
   "cell_type": "code",
   "execution_count": null,
   "metadata": {},
   "outputs": [],
   "source": [
    "len(pollution_data)"
   ]
  },
  {
   "cell_type": "code",
   "execution_count": null,
   "metadata": {},
   "outputs": [],
   "source": []
  }
 ],
 "metadata": {
  "kernelspec": {
   "display_name": "Python 3",
   "language": "python",
   "name": "python3"
  },
  "language_info": {
   "codemirror_mode": {
    "name": "ipython",
    "version": 3
   },
   "file_extension": ".py",
   "mimetype": "text/x-python",
   "name": "python",
   "nbconvert_exporter": "python",
   "pygments_lexer": "ipython3",
   "version": "3.7.3"
  }
 },
 "nbformat": 4,
 "nbformat_minor": 2
}
